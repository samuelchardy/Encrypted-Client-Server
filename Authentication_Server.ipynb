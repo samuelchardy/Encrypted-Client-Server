{
  "nbformat": 4,
  "nbformat_minor": 0,
  "metadata": {
    "colab": {
      "name": "Authentication Server.ipynb",
      "provenance": [],
      "authorship_tag": "ABX9TyONQx5VxuL7r+yPNcNKVaTK",
      "include_colab_link": true
    },
    "kernelspec": {
      "name": "python3",
      "display_name": "Python 3"
    }
  },
  "cells": [
    {
      "cell_type": "markdown",
      "metadata": {
        "id": "view-in-github",
        "colab_type": "text"
      },
      "source": [
        "<a href=\"https://colab.research.google.com/github/samuelchardy/SCC.363-1/blob/master/Authentication_Server.ipynb\" target=\"_parent\"><img src=\"https://colab.research.google.com/assets/colab-badge.svg\" alt=\"Open In Colab\"/></a>"
      ]
    },
    {
      "cell_type": "code",
      "metadata": {
        "id": "VF5-TOrOaIin",
        "colab_type": "code",
        "colab": {}
      },
      "source": [
        ""
      ],
      "execution_count": 0,
      "outputs": []
    },
    {
      "cell_type": "markdown",
      "metadata": {
        "id": "ALev-6gtaKlK",
        "colab_type": "text"
      },
      "source": [
        "#Authorization Server\n",
        "\n"
      ]
    },
    {
      "cell_type": "code",
      "metadata": {
        "id": "rd4ljrlSaPH6",
        "colab_type": "code",
        "colab": {}
      },
      "source": [
        "#heres our python server code "
      ],
      "execution_count": 0,
      "outputs": []
    },
    {
      "cell_type": "markdown",
      "metadata": {
        "id": "xb5VWHJqckml",
        "colab_type": "text"
      },
      "source": [
        "Here's our Client code"
      ]
    },
    {
      "cell_type": "code",
      "metadata": {
        "id": "BB5SIE6XchoC",
        "colab_type": "code",
        "colab": {}
      },
      "source": [
        "import socket\n",
        "\n",
        "clientSocket = socket.socket(socket.AF_INET, socket.SOCK_STREAM)\n",
        "\n",
        "host = socket.gethostname()                           \n",
        "port = 9999\n",
        "clientSocket.connect((host, port))  \n",
        "\n",
        "msg = clientSocket.recv(1024)                                     \n",
        "clientSocket.close()\n",
        "print (msg.decode('ascii'))"
      ],
      "execution_count": 0,
      "outputs": []
    },
    {
      "cell_type": "markdown",
      "metadata": {
        "id": "AjrsTTeScvm-",
        "colab_type": "text"
      },
      "source": [
        "Here's a server\n"
      ]
    },
    {
      "cell_type": "code",
      "metadata": {
        "id": "RXHVg34GcxNi",
        "colab_type": "code",
        "colab": {}
      },
      "source": [
        "import socket\n",
        "\n",
        "serverSocket = socket.socket(socket.AF_INET, socket.SOCK_STREAM)\n",
        "\n",
        "host = socket.gethostname()\n",
        "port = 9999\n",
        "serverSocket.bind((host, port))\n",
        "\n",
        "serverSocket.listen(5)\n",
        "print(\"Server Active\")\n",
        "\n",
        "while True:\n",
        "    clientSocket,addr = serverSocket.accept()      \n",
        "    print(\"Connected to: %s\" % str(addr))\n",
        "    \n",
        "    msg = \"Connected to \" + str(host) + \":\" + str(port) + \"\\r\\n\" \n",
        "    clientSocket.send(msg.encode('ascii'))\n",
        "    clientSocket.close()"
      ],
      "execution_count": 0,
      "outputs": []
    }
  ]
}