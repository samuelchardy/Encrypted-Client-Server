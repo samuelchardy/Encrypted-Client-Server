{
  "nbformat": 4,
  "nbformat_minor": 0,
  "metadata": {
    "colab": {
      "name": "Authentication Client.ipynb",
      "provenance": [],
      "authorship_tag": "ABX9TyM7Mxas2GiNCv8Soow60G8b",
      "include_colab_link": true
    },
    "kernelspec": {
      "name": "python3",
      "display_name": "Python 3"
    }
  },
  "cells": [
    {
      "cell_type": "markdown",
      "metadata": {
        "id": "view-in-github",
        "colab_type": "text"
      },
      "source": [
        "<a href=\"https://colab.research.google.com/github/samuelchardy/SCC.363-1/blob/master/Authentication_Client.ipynb\" target=\"_parent\"><img src=\"https://colab.research.google.com/assets/colab-badge.svg\" alt=\"Open In Colab\"/></a>"
      ]
    },
    {
      "cell_type": "markdown",
      "metadata": {
        "id": "z4snGLLWjoqr",
        "colab_type": "text"
      },
      "source": [
        "#Authentication Client\n"
      ]
    },
    {
      "cell_type": "code",
      "metadata": {
        "id": "rd4ljrlSaPH6",
        "colab_type": "code",
        "outputId": "af082344-8f5d-4902-f331-fe66a3f6f45b",
        "colab": {
          "base_uri": "https://localhost:8080/",
          "height": 287
        }
      },
      "source": [
        "#heres our python server code \n",
        "#lets bring in some dependencies\n",
        "!pip install pycrypto pyopenssl cryptography\n",
        "\n",
        "#and here lets import them to our code \n",
        "from Crypto.Hash import SHA256\n",
        "from Crypto.Cipher import AES \n",
        "from cryptography.fernet import Fernet\n",
        "import OpenSSL\n",
        "from OpenSSL import SSL"
      ],
      "execution_count": 0,
      "outputs": [
        {
          "output_type": "stream",
          "text": [
            "Collecting pycrypto\n",
            "\u001b[?25l  Downloading https://files.pythonhosted.org/packages/60/db/645aa9af249f059cc3a368b118de33889219e0362141e75d4eaf6f80f163/pycrypto-2.6.1.tar.gz (446kB)\n",
            "\u001b[K     |████████████████████████████████| 450kB 8.6MB/s \n",
            "\u001b[?25hCollecting pyopenssl\n",
            "\u001b[?25l  Downloading https://files.pythonhosted.org/packages/9e/de/f8342b68fa9e981d348039954657bdf681b2ab93de27443be51865ffa310/pyOpenSSL-19.1.0-py2.py3-none-any.whl (53kB)\n",
            "\u001b[K     |████████████████████████████████| 61kB 7.3MB/s \n",
            "\u001b[?25hCollecting cryptography\n",
            "\u001b[?25l  Downloading https://files.pythonhosted.org/packages/ca/9a/7cece52c46546e214e10811b36b2da52ce1ea7fa203203a629b8dfadad53/cryptography-2.8-cp34-abi3-manylinux2010_x86_64.whl (2.3MB)\n",
            "\u001b[K     |████████████████████████████████| 2.3MB 12.1MB/s \n",
            "\u001b[?25hRequirement already satisfied: six>=1.5.2 in /usr/local/lib/python3.6/dist-packages (from pyopenssl) (1.12.0)\n",
            "Requirement already satisfied: cffi!=1.11.3,>=1.8 in /usr/local/lib/python3.6/dist-packages (from cryptography) (1.13.2)\n",
            "Requirement already satisfied: pycparser in /usr/local/lib/python3.6/dist-packages (from cffi!=1.11.3,>=1.8->cryptography) (2.19)\n",
            "Building wheels for collected packages: pycrypto\n"
          ],
          "name": "stdout"
        }
      ]
    },
    {
      "cell_type": "code",
      "metadata": {
        "id": "BB5SIE6XchoC",
        "colab_type": "code",
        "colab": {}
      },
      "source": [
        "import socket\n",
        "\n",
        "clientSocket = socket.socket(socket.AF_INET, socket.SOCK_STREAM)\n",
        "\n",
        "host = socket.gethostname()                           \n",
        "port = 9999\n",
        "clientSocket.connect((host, port))  \n",
        "\n",
        "msg = clientSocket.recv(1024)                                     \n",
        "clientSocket.close()\n",
        "print (msg.decode('ascii'))"
      ],
      "execution_count": 0,
      "outputs": []
    }
  ]
}